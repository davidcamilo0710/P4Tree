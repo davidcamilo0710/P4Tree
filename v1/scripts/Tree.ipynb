{
 "cells": [
  {
   "cell_type": "markdown",
   "metadata": {},
   "source": [
    "# Elephants Flows - Online inference in dataplane\n",
    "\n",
    "This notebook focuses on training an algorithm for flow classification, accuracy evaluation, and export for use in the data plane of a network.\n",
    "\n",
    "The original traffic trazes can be found [here](https://pages.cs.wisc.edu/~tbenson/IMC10_Data.html). We create the [datasetGenerator.py](https://github.com/davidcamilo0710/Elephant_flows/blob/master/scripts/datasetGenerator.py) script to extract all the flows, the 5 tuples and the weight of the first 7 packets."
   ]
  },
  {
   "cell_type": "markdown",
   "metadata": {},
   "source": [
    "# INDEX\n",
    "\n",
    "## [Data Pre-processing](#data)\n",
    "\n",
    "## [Modeling](#modeling)\n",
    "  * [Training and Test data](#trainig)\n",
    "  * [Classification Algorithm](#clasification)\n",
    "  * [Predictions and accuracy](#accuracy)\n",
    "  * [Export the trained model](#sav)"
   ]
  },
  {
   "cell_type": "code",
   "execution_count": 104,
   "metadata": {},
   "outputs": [],
   "source": [
    "import numpy as np\n",
    "import pandas as pd\n",
    "import matplotlib.pyplot as plt\n",
    "import pickle as pickle\n",
    "from sklearn.tree import DecisionTreeClassifier\n",
    "from sklearn.ensemble import RandomForestClassifier\n",
    "from sklearn.metrics import matthews_corrcoef\n",
    "from sklearn.metrics import accuracy_score\n",
    "from sklearn.model_selection import train_test_split\n",
    "\n",
    "import warnings\n",
    "warnings.filterwarnings('once')"
   ]
  },
  {
   "cell_type": "markdown",
   "metadata": {},
   "source": [
    "<a id=\"data\"></a>\n",
    "# Data Preprocessing\n",
    "The dataset is imported specifying its directory, also the algorithm (decision tree or random forest) and the weight to balance the training."
   ]
  },
  {
   "cell_type": "code",
   "execution_count": 105,
   "metadata": {},
   "outputs": [
    {
     "name": "stdout",
     "output_type": "stream",
     "text": [
      "ip_proto     float64\n",
      "port_src     float64\n",
      "port_dst     float64\n",
      "size_pkt1    float64\n",
      "size_pkt2    float64\n",
      "size_pkt3    float64\n",
      "size_pkt4    float64\n",
      "size_pkt5    float64\n",
      "size_pkt6    float64\n",
      "size_pkt7    float64\n",
      "Elephant       int32\n",
      "dtype: object\n"
     ]
    },
    {
     "data": {
      "text/plain": [
       "(72690, 11)"
      ]
     },
     "execution_count": 105,
     "metadata": {},
     "output_type": "execute_result"
    }
   ],
   "source": [
    "algoritmo = \"DT\"\n",
    "directorio = \"../datasets/UNI1.csv\"\n",
    "w = 10\n",
    "\n",
    "dataset1 = pd.read_csv(r''+directorio+'')\n",
    "\n",
    "# Import dataset\n",
    "dataset1['Elephant'] = np.where(dataset1.tot_size > 100000, 1, 0)\n",
    "drop_elements = [\"tot_size\"]\n",
    "X = dataset1.drop(drop_elements, axis=1)\n",
    "Num = dataset1.groupby('Elephant').size()\n",
    "\n",
    "print(X.dtypes)\n",
    "X.shape"
   ]
  },
  {
   "cell_type": "markdown",
   "metadata": {},
   "source": [
    "Let's look at the characteristics and their importance when predicting a flow."
   ]
  },
  {
   "cell_type": "code",
   "execution_count": 106,
   "metadata": {},
   "outputs": [
    {
     "name": "stdout",
     "output_type": "stream",
     "text": [
      "Variable: size_pkt6            Importance: 0.3\n",
      "Variable: size_pkt3            Importance: 0.25\n",
      "Variable: size_pkt7            Importance: 0.12\n",
      "Variable: size_pkt4            Importance: 0.09\n",
      "Variable: size_pkt5            Importance: 0.09\n",
      "Variable: port_dst             Importance: 0.05\n",
      "Variable: size_pkt2            Importance: 0.05\n",
      "Variable: port_src             Importance: 0.02\n",
      "Variable: size_pkt1            Importance: 0.02\n",
      "Variable: ip_proto             Importance: 0.0\n"
     ]
    }
   ],
   "source": [
    "data_train = X.drop(columns = 'Elephant')\n",
    "feature_list = list(data_train.columns)\n",
    "\n",
    "# Get numerical feature importances\n",
    "importances = list(modelo.feature_importances_)\n",
    "feature_importances = [(feature, round(importance, 2)) for feature, importance in zip(feature_list, importances)]\n",
    "\n",
    "# Sort the feature importances by most important first\n",
    "feature_importances = sorted(feature_importances, key = lambda x: x[1], reverse = True)\n",
    "[print('Variable: {:20} Importance: {}'.format(*pair)) for pair in feature_importances];"
   ]
  },
  {
   "cell_type": "code",
   "execution_count": 107,
   "metadata": {},
   "outputs": [
    {
     "data": {
      "image/png": "[encoded data removed]",
      "text/plain": [
       "<Figure size 432x288 with 1 Axes>"
      ]
     },
     "metadata": {
      "needs_background": "light"
     },
     "output_type": "display_data"
    }
   ],
   "source": [
    "# list of x locations for plotting and Make a bar chart\n",
    "x_values = list(range(len(importances)))\n",
    "plt.bar(x_values, importances, orientation = 'vertical')\n",
    "plt.xticks(x_values, feature_list, rotation='vertical')\n",
    "\n",
    "# Axis labels and title\n",
    "plt.ylabel('Importance'); plt.xlabel('Variable'); plt.title('Variable Importances');"
   ]
  },
  {
   "cell_type": "markdown",
   "metadata": {},
   "source": [
    "<a id=\"modeling\"></a>\n",
    "# Modeling"
   ]
  },
  {
   "cell_type": "markdown",
   "metadata": {},
   "source": [
    "<a id=\"trainig\"></a>\n",
    "## Training and Test data\n",
    "Separate the ones and zeros to compare the predictions separately and calculate the FPR and TPR."
   ]
  },
  {
   "cell_type": "code",
   "execution_count": 108,
   "metadata": {
    "scrolled": false
   },
   "outputs": [
    {
     "data": {
      "text/html": [
       "<div>\n",
       "<style scoped>\n",
       "    .dataframe tbody tr th:only-of-type {\n",
       "        vertical-align: middle;\n",
       "    }\n",
       "\n",
       "    .dataframe tbody tr th {\n",
       "        vertical-align: top;\n",
       "    }\n",
       "\n",
       "    .dataframe thead th {\n",
       "        text-align: right;\n",
       "    }\n",
       "</style>\n",
       "<table border=\"1\" class=\"dataframe\">\n",
       "  <thead>\n",
       "    <tr style=\"text-align: right;\">\n",
       "      <th></th>\n",
       "      <th>ip_proto</th>\n",
       "      <th>port_src</th>\n",
       "      <th>port_dst</th>\n",
       "      <th>size_pkt1</th>\n",
       "      <th>size_pkt2</th>\n",
       "      <th>size_pkt3</th>\n",
       "      <th>size_pkt4</th>\n",
       "      <th>size_pkt5</th>\n",
       "      <th>size_pkt6</th>\n",
       "      <th>size_pkt7</th>\n",
       "      <th>Elephant</th>\n",
       "    </tr>\n",
       "  </thead>\n",
       "  <tbody>\n",
       "    <tr>\n",
       "      <th>571</th>\n",
       "      <td>6.0</td>\n",
       "      <td>43750.0</td>\n",
       "      <td>80.0</td>\n",
       "      <td>62.0</td>\n",
       "      <td>60.0</td>\n",
       "      <td>690.0</td>\n",
       "      <td>60.0</td>\n",
       "      <td>60.0</td>\n",
       "      <td>60.0</td>\n",
       "      <td>60.0</td>\n",
       "      <td>0</td>\n",
       "    </tr>\n",
       "    <tr>\n",
       "      <th>580</th>\n",
       "      <td>6.0</td>\n",
       "      <td>60823.0</td>\n",
       "      <td>80.0</td>\n",
       "      <td>62.0</td>\n",
       "      <td>60.0</td>\n",
       "      <td>587.0</td>\n",
       "      <td>66.0</td>\n",
       "      <td>60.0</td>\n",
       "      <td>60.0</td>\n",
       "      <td>60.0</td>\n",
       "      <td>0</td>\n",
       "    </tr>\n",
       "    <tr>\n",
       "      <th>581</th>\n",
       "      <td>6.0</td>\n",
       "      <td>2250.0</td>\n",
       "      <td>80.0</td>\n",
       "      <td>62.0</td>\n",
       "      <td>60.0</td>\n",
       "      <td>1055.0</td>\n",
       "      <td>60.0</td>\n",
       "      <td>60.0</td>\n",
       "      <td>60.0</td>\n",
       "      <td>60.0</td>\n",
       "      <td>0</td>\n",
       "    </tr>\n",
       "    <tr>\n",
       "      <th>583</th>\n",
       "      <td>6.0</td>\n",
       "      <td>29261.0</td>\n",
       "      <td>80.0</td>\n",
       "      <td>62.0</td>\n",
       "      <td>60.0</td>\n",
       "      <td>538.0</td>\n",
       "      <td>60.0</td>\n",
       "      <td>60.0</td>\n",
       "      <td>60.0</td>\n",
       "      <td>60.0</td>\n",
       "      <td>0</td>\n",
       "    </tr>\n",
       "    <tr>\n",
       "      <th>588</th>\n",
       "      <td>6.0</td>\n",
       "      <td>11211.0</td>\n",
       "      <td>80.0</td>\n",
       "      <td>62.0</td>\n",
       "      <td>60.0</td>\n",
       "      <td>1035.0</td>\n",
       "      <td>60.0</td>\n",
       "      <td>60.0</td>\n",
       "      <td>60.0</td>\n",
       "      <td>60.0</td>\n",
       "      <td>0</td>\n",
       "    </tr>\n",
       "  </tbody>\n",
       "</table>\n",
       "</div>"
      ],
      "text/plain": [
       "     ip_proto  port_src  port_dst  size_pkt1  size_pkt2  size_pkt3  size_pkt4  \\\n",
       "571       6.0   43750.0      80.0       62.0       60.0      690.0       60.0   \n",
       "580       6.0   60823.0      80.0       62.0       60.0      587.0       66.0   \n",
       "581       6.0    2250.0      80.0       62.0       60.0     1055.0       60.0   \n",
       "583       6.0   29261.0      80.0       62.0       60.0      538.0       60.0   \n",
       "588       6.0   11211.0      80.0       62.0       60.0     1035.0       60.0   \n",
       "\n",
       "     size_pkt5  size_pkt6  size_pkt7  Elephant  \n",
       "571       60.0       60.0       60.0         0  \n",
       "580       60.0       60.0       60.0         0  \n",
       "581       60.0       60.0       60.0         0  \n",
       "583       60.0       60.0       60.0         0  \n",
       "588       60.0       60.0       60.0         0  "
      ]
     },
     "execution_count": 108,
     "metadata": {},
     "output_type": "execute_result"
    }
   ],
   "source": [
    "data0 = X[X['Elephant'] == 0]\n",
    "data1 = X[X['Elephant'] == 1]\n",
    "data0.head(5)"
   ]
  },
  {
   "cell_type": "code",
   "execution_count": 109,
   "metadata": {},
   "outputs": [
    {
     "data": {
      "text/html": [
       "<div>\n",
       "<style scoped>\n",
       "    .dataframe tbody tr th:only-of-type {\n",
       "        vertical-align: middle;\n",
       "    }\n",
       "\n",
       "    .dataframe tbody tr th {\n",
       "        vertical-align: top;\n",
       "    }\n",
       "\n",
       "    .dataframe thead th {\n",
       "        text-align: right;\n",
       "    }\n",
       "</style>\n",
       "<table border=\"1\" class=\"dataframe\">\n",
       "  <thead>\n",
       "    <tr style=\"text-align: right;\">\n",
       "      <th></th>\n",
       "      <th>ip_proto</th>\n",
       "      <th>port_src</th>\n",
       "      <th>port_dst</th>\n",
       "      <th>size_pkt1</th>\n",
       "      <th>size_pkt2</th>\n",
       "      <th>size_pkt3</th>\n",
       "      <th>size_pkt4</th>\n",
       "      <th>size_pkt5</th>\n",
       "      <th>size_pkt6</th>\n",
       "      <th>size_pkt7</th>\n",
       "      <th>Elephant</th>\n",
       "    </tr>\n",
       "  </thead>\n",
       "  <tbody>\n",
       "    <tr>\n",
       "      <th>0</th>\n",
       "      <td>6.0</td>\n",
       "      <td>22.0</td>\n",
       "      <td>59984.0</td>\n",
       "      <td>130.0</td>\n",
       "      <td>1434.0</td>\n",
       "      <td>90.0</td>\n",
       "      <td>146.0</td>\n",
       "      <td>130.0</td>\n",
       "      <td>146.0</td>\n",
       "      <td>146.0</td>\n",
       "      <td>1</td>\n",
       "    </tr>\n",
       "    <tr>\n",
       "      <th>1</th>\n",
       "      <td>6.0</td>\n",
       "      <td>59984.0</td>\n",
       "      <td>22.0</td>\n",
       "      <td>162.0</td>\n",
       "      <td>66.0</td>\n",
       "      <td>130.0</td>\n",
       "      <td>66.0</td>\n",
       "      <td>130.0</td>\n",
       "      <td>66.0</td>\n",
       "      <td>130.0</td>\n",
       "      <td>1</td>\n",
       "    </tr>\n",
       "    <tr>\n",
       "      <th>2</th>\n",
       "      <td>6.0</td>\n",
       "      <td>80.0</td>\n",
       "      <td>15636.0</td>\n",
       "      <td>66.0</td>\n",
       "      <td>60.0</td>\n",
       "      <td>436.0</td>\n",
       "      <td>1446.0</td>\n",
       "      <td>1446.0</td>\n",
       "      <td>1366.0</td>\n",
       "      <td>60.0</td>\n",
       "      <td>1</td>\n",
       "    </tr>\n",
       "    <tr>\n",
       "      <th>3</th>\n",
       "      <td>17.0</td>\n",
       "      <td>443.0</td>\n",
       "      <td>1687.0</td>\n",
       "      <td>135.0</td>\n",
       "      <td>247.0</td>\n",
       "      <td>295.0</td>\n",
       "      <td>247.0</td>\n",
       "      <td>295.0</td>\n",
       "      <td>247.0</td>\n",
       "      <td>295.0</td>\n",
       "      <td>1</td>\n",
       "    </tr>\n",
       "    <tr>\n",
       "      <th>4</th>\n",
       "      <td>6.0</td>\n",
       "      <td>445.0</td>\n",
       "      <td>1803.0</td>\n",
       "      <td>158.0</td>\n",
       "      <td>214.0</td>\n",
       "      <td>158.0</td>\n",
       "      <td>214.0</td>\n",
       "      <td>158.0</td>\n",
       "      <td>214.0</td>\n",
       "      <td>158.0</td>\n",
       "      <td>1</td>\n",
       "    </tr>\n",
       "  </tbody>\n",
       "</table>\n",
       "</div>"
      ],
      "text/plain": [
       "   ip_proto  port_src  port_dst  size_pkt1  size_pkt2  size_pkt3  size_pkt4  \\\n",
       "0       6.0      22.0   59984.0      130.0     1434.0       90.0      146.0   \n",
       "1       6.0   59984.0      22.0      162.0       66.0      130.0       66.0   \n",
       "2       6.0      80.0   15636.0       66.0       60.0      436.0     1446.0   \n",
       "3      17.0     443.0    1687.0      135.0      247.0      295.0      247.0   \n",
       "4       6.0     445.0    1803.0      158.0      214.0      158.0      214.0   \n",
       "\n",
       "   size_pkt5  size_pkt6  size_pkt7  Elephant  \n",
       "0      130.0      146.0      146.0         1  \n",
       "1      130.0       66.0      130.0         1  \n",
       "2     1446.0     1366.0       60.0         1  \n",
       "3      295.0      247.0      295.0         1  \n",
       "4      158.0      214.0      158.0         1  "
      ]
     },
     "execution_count": 109,
     "metadata": {},
     "output_type": "execute_result"
    }
   ],
   "source": [
    "data1.head(5)"
   ]
  },
  {
   "cell_type": "markdown",
   "metadata": {},
   "source": [
    "Separate the training and test data."
   ]
  },
  {
   "cell_type": "code",
   "execution_count": 110,
   "metadata": {},
   "outputs": [],
   "source": [
    "dataT0 = data0.drop(columns = 'Elephant')\n",
    "datat0 = data0[\"Elephant\"]\n",
    "dataT1 = data1.drop(columns = 'Elephant')\n",
    "datat1 = data1[\"Elephant\"]\n",
    "\n",
    "# We separate the ones and zeros to be able to compare the predictions separately\n",
    "X_train, X_test, y_train, y_test = train_test_split(X.drop(columns = 'Elephant'), X['Elephant'], random_state = 0)"
   ]
  },
  {
   "cell_type": "markdown",
   "metadata": {},
   "source": [
    "<a id=\"clasification\"></a>\n",
    "## Classification Algorithm\n",
    "Create the classification model with decision tree and random forest. The tree depth, the number of trees, the weight and other parameters are configured and calibrated for best performance."
   ]
  },
  {
   "cell_type": "code",
   "execution_count": 111,
   "metadata": {},
   "outputs": [
    {
     "data": {
      "text/plain": [
       "DecisionTreeClassifier(class_weight={1: 10}, max_depth=14, max_leaf_nodes=200,\n",
       "                       min_samples_leaf=9)"
      ]
     },
     "execution_count": 111,
     "metadata": {},
     "output_type": "execute_result"
    }
   ],
   "source": [
    "if algoritmo == \"RF\":\n",
    "    # Create the model\n",
    "    modelo = RandomForestClassifier(\n",
    "            n_estimators      = 5,\n",
    "            max_depth         = 14,\n",
    "            n_jobs            = 2,\n",
    "            min_samples_leaf = 9,\n",
    "            max_leaf_nodes = 200,\n",
    "            class_weight={1:w})\n",
    "    \n",
    "elif(algoritmo == \"DT\"):\n",
    "    modelo = DecisionTreeClassifier(\n",
    "                max_depth         = 14,\n",
    "                min_samples_leaf = 9,\n",
    "                max_leaf_nodes = 200,\n",
    "                class_weight={1:w})\n",
    "    \n",
    "else:\n",
    "    print(\"Only DT (Desicion Tree) or RF (Randon Forest)\")\n",
    "    \n",
    "modelo.fit(X_train, y_train)"
   ]
  },
  {
   "cell_type": "markdown",
   "metadata": {},
   "source": [
    "<a id=\"accuracy\"></a>\n",
    "## Predictions and accuracy\n",
    "Make the inference for the elephants and mice separately."
   ]
  },
  {
   "cell_type": "code",
   "execution_count": 112,
   "metadata": {},
   "outputs": [],
   "source": [
    "predicciones = modelo.predict(X_test) # Total Prediction\n",
    "pre0 = modelo.predict(dataT0) # Prediction of 0\n",
    "pre1 = modelo.predict(dataT1) # Prediction of 1"
   ]
  },
  {
   "cell_type": "markdown",
   "metadata": {},
   "source": [
    "Calculates and prints the TPR, FPR and MCC"
   ]
  },
  {
   "cell_type": "code",
   "execution_count": 113,
   "metadata": {},
   "outputs": [
    {
     "name": "stdout",
     "output_type": "stream",
     "text": [
      "Decision Tree\n",
      "TPR: 94.23 %\n",
      "FPR: 31.43 %\n",
      "MCC: 0.39 \n",
      "\n"
     ]
    }
   ],
   "source": [
    "mcc=matthews_corrcoef(y_test, predicciones)\n",
    "\n",
    "accurac1 = accuracy_score(  y_true    = datat1,\n",
    "                            y_pred    = pre1,\n",
    "                            normalize = True )\n",
    "    \n",
    "accurac0 = accuracy_score(\n",
    "                            y_true    = datat0,\n",
    "                            y_pred    = pre0,\n",
    "                            normalize = True\n",
    "                            )\n",
    "# Total\n",
    "accurac2 = accuracy_score(\n",
    "                            y_true    = y_test,\n",
    "                            y_pred    = predicciones,\n",
    "                            normalize = True\n",
    "                            )\n",
    "\n",
    "if algoritmo == \"RF\":\n",
    "    print('Random Forest')\n",
    "elif algoritmo == \"DT\":\n",
    "    print('Decision Tree')\n",
    "print(\"TPR: {:.2f} %\".format(100 * accurac1))\n",
    "print(\"FPR: {:.2f} %\".format(100 * (1-accurac0)))\n",
    "print(\"MCC: {:.2f} \\n\".format(mcc))"
   ]
  },
  {
   "cell_type": "markdown",
   "metadata": {},
   "source": [
    "<a id=\"sav\"></a>\n",
    "## Export the trained Model\n",
    "Export the tree to make the inference in the simulation (Python) and emulation (P4)."
   ]
  },
  {
   "cell_type": "code",
   "execution_count": 115,
   "metadata": {},
   "outputs": [],
   "source": [
    "if algoritmo == \"RF\":\n",
    "    filename = open('tree_RF.sav', 'wb')\n",
    "    pickle.dump(modelo, filename)\n",
    "    filename.close()\n",
    "elif algoritmo == \"DT\":\n",
    "    filename = open('tree_DT.sav', 'wb')\n",
    "    pickle.dump(modelo, filename)\n",
    "    filename.close()"
   ]
  },
  {
   "cell_type": "code",
   "execution_count": null,
   "metadata": {},
   "outputs": [],
   "source": []
  }
 ],
 "metadata": {
  "kernelspec": {
   "display_name": "Python 3 (ipykernel)",
   "language": "python",
   "name": "python3"
  },
  "language_info": {
   "codemirror_mode": {
    "name": "ipython",
    "version": 3
   },
   "file_extension": ".py",
   "mimetype": "text/x-python",
   "name": "python",
   "nbconvert_exporter": "python",
   "pygments_lexer": "ipython3",
   "version": "3.9.7"
  }
 },
 "nbformat": 4,
 "nbformat_minor": 4
}
